{
  "nbformat": 4,
  "nbformat_minor": 0,
  "metadata": {
    "colab": {
      "provenance": []
    },
    "kernelspec": {
      "name": "python3",
      "display_name": "Python 3"
    },
    "language_info": {
      "name": "python"
    }
  },
  "cells": [
    {
      "cell_type": "code",
      "execution_count": 9,
      "metadata": {
        "colab": {
          "base_uri": "https://localhost:8080/"
        },
        "id": "eO2HJBQv2zRh",
        "outputId": "dc7cf99c-c18d-49fd-bb3c-b162e9e92ef5"
      },
      "outputs": [
        {
          "output_type": "stream",
          "name": "stdout",
          "text": [
            "¿Es spam? No\n"
          ]
        }
      ],
      "source": [
        "# Paso 1: importar librerías necesarias\n",
        "from sklearn.linear_model import LogisticRegression\n",
        "from sklearn.model_selection import train_test_split\n",
        "import numpy as np\n",
        "\n",
        "# Paso 2: crear datos simulados (X = características, Y = etiquetas)\n",
        "# X puede representar características como: cantidad de palabras, tiene enlace, etc.\n",
        "# Y representa si es spam (1) o no (0)\n",
        "X = np.array([[3, 1], [7, 0], [2, 1], [10, 0], [5, 1], [1, 1], [8, 0]])  # Características\n",
        "Y = np.array([1, 0, 1, 0, 1, 1, 0])  # Etiquetas\n",
        "\n",
        "# Paso 3: dividir en datos de entrenamiento y prueba\n",
        "X_entrenamiento, X_prueba, Y_entrenamiento, Y_prueba = train_test_split(X, Y, test_size=0.3, random_state=42)\n",
        "\n",
        "# Paso 4: crear el modelo\n",
        "modelo = LogisticRegression()\n",
        "\n",
        "# Paso 5: entrenar el modelo\n",
        "modelo.fit(X_entrenamiento, Y_entrenamiento)\n",
        "\n",
        "# Paso 6: hacer una predicción\n",
        "X_nuevo = np.array([[100, 0]])  # Un nuevo correo con 4 palabras y un enlace\n",
        "prediccion = modelo.predict(X_nuevo)\n",
        "\n",
        "# Mostrar el resultado\n",
        "print(\"¿Es spam?\", \"Sí\" if prediccion[0] == 1 else \"No\")"
      ]
    },
    {
      "cell_type": "code",
      "source": [
        "print(X_entrenamiento)"
      ],
      "metadata": {
        "colab": {
          "base_uri": "https://localhost:8080/"
        },
        "id": "KiYFwIQq-rj3",
        "outputId": "d496021f-cbd6-4f89-847b-0f05272b4565"
      },
      "execution_count": 2,
      "outputs": [
        {
          "output_type": "stream",
          "name": "stdout",
          "text": [
            "[[ 2  1]\n",
            " [ 5  1]\n",
            " [10  0]\n",
            " [ 8  0]]\n"
          ]
        }
      ]
    },
    {
      "cell_type": "code",
      "source": [
        "print(Y_entrenamiento)"
      ],
      "metadata": {
        "colab": {
          "base_uri": "https://localhost:8080/"
        },
        "id": "0OZOqBAp-zhW",
        "outputId": "4c679147-388c-4c62-e665-8a8c428efadc"
      },
      "execution_count": 3,
      "outputs": [
        {
          "output_type": "stream",
          "name": "stdout",
          "text": [
            "[1 1 0 0]\n"
          ]
        }
      ]
    }
  ]
}