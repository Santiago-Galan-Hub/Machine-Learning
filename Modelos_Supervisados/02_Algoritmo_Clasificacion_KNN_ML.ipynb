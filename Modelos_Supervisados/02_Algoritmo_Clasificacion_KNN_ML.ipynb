{
  "nbformat": 4,
  "nbformat_minor": 0,
  "metadata": {
    "colab": {
      "provenance": []
    },
    "kernelspec": {
      "name": "python3",
      "display_name": "Python 3"
    },
    "language_info": {
      "name": "python"
    }
  },
  "cells": [
    {
      "cell_type": "code",
      "execution_count": 12,
      "metadata": {
        "colab": {
          "base_uri": "https://localhost:8080/"
        },
        "id": "8knwzHyYeK12",
        "outputId": "e1a3abaa-ce2d-496b-c563-f994ad35738e"
      },
      "outputs": [
        {
          "output_type": "stream",
          "name": "stdout",
          "text": [
            "¿No compra?\n"
          ]
        }
      ],
      "source": [
        "# Paso 1: Importar librerías necesarias\n",
        "from sklearn.neighbors import KNeighborsClassifier\n",
        "from sklearn.model_selection import train_test_split\n",
        "\n",
        "# Paso 2: Datos (Edad, Ingreso) → Objetivo: ¿Compra (1) o No Compra (0)?\n",
        "X = [[25, 40000], [35, 60000], [45, 80000], [20, 20000], [35, 120000]]\n",
        "y = [1, 1, 0, 0, 1]\n",
        "\n",
        "# Paso 3: Dividir en datos de entrenamiento y prueba\n",
        "X_train, X_test, y_train, y_test = train_test_split(X, y, test_size=0.2, random_state=42)\n",
        "\n",
        "# Paso 4: Crear el modelo y entrenarlo\n",
        "model = KNeighborsClassifier(n_neighbors=4)\n",
        "model.fit(X_train, y_train)\n",
        "\n",
        "# Paso 5: Probar el modelo con un nuevo dato\n",
        "nueva_persona = [[50, 50000]]\n",
        "resultado = model.predict(nueva_persona)\n",
        "\n",
        "# Mostrar resultado\n",
        "print(\"¿Compra?\" if resultado[0] == 1 else \"¿No compra?\")"
      ]
    }
  ]
}