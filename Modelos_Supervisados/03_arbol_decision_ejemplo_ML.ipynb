{
  "nbformat": 4,
  "nbformat_minor": 0,
  "metadata": {
    "colab": {
      "provenance": []
    },
    "kernelspec": {
      "name": "python3",
      "display_name": "Python 3"
    },
    "language_info": {
      "name": "python"
    }
  },
  "cells": [
    {
      "cell_type": "code",
      "execution_count": 10,
      "metadata": {
        "colab": {
          "base_uri": "https://localhost:8080/"
        },
        "id": "cHOiyda-nmkl",
        "outputId": "fad25baf-e0a7-48f9-be10-d30e4d232746"
      },
      "outputs": [
        {
          "output_type": "stream",
          "name": "stdout",
          "text": [
            "Precisión del modelo: 1.0\n",
            "¿Aprueba? Sí\n"
          ]
        },
        {
          "output_type": "stream",
          "name": "stderr",
          "text": [
            "/usr/local/lib/python3.11/dist-packages/sklearn/utils/validation.py:2739: UserWarning: X does not have valid feature names, but DecisionTreeClassifier was fitted with feature names\n",
            "  warnings.warn(\n"
          ]
        }
      ],
      "source": [
        "import pandas as pd\n",
        "from sklearn.tree import DecisionTreeClassifier\n",
        "from sklearn.model_selection import train_test_split\n",
        "from sklearn.metrics import accuracy_score\n",
        "\n",
        "# Creamos un dataset de ejemplo\n",
        "datos = {\n",
        "    'Horas_estudio': [1, 2, 3, 4, 5, 6, 1, 2, 5, 7],\n",
        "    'Asistencia': [40, 50, 60, 70, 80, 90, 30, 35, 85, 95],\n",
        "    'Aprueba': [0, 0, 0, 1, 1, 1, 0, 0, 1, 1]\n",
        "}\n",
        "\n",
        "df = pd.DataFrame(datos)\n",
        "\n",
        "\n",
        "X = df[['Horas_estudio', 'Asistencia']]\n",
        "y = df['Aprueba']\n",
        "\n",
        "X_train, X_test, y_train, y_test = train_test_split(X, y, test_size=0.3, random_state=42)\n",
        "\n",
        "modelo = DecisionTreeClassifier(random_state=42)\n",
        "modelo.fit(X_train, y_train)\n",
        "\n",
        "\n",
        "y_pred = modelo.predict(X_test)\n",
        "print(\"Precisión del modelo:\", accuracy_score(y_test, y_pred))\n",
        "\n",
        "# ¿Un estudiante que estudió 4 horas y tiene 80% de asistencia aprobará?\n",
        "nueva = modelo.predict([[4, 80]])\n",
        "print(\"¿Aprueba?\", \"Sí\" if nueva[0] == 1 else \"No\")\n",
        "\n"
      ]
    }
  ]
}